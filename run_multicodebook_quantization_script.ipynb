{
 "cells": [
  {
   "cell_type": "code",
   "execution_count": null,
   "id": "59dda2a4-d70d-41c3-a2e6-813af0c41acf",
   "metadata": {},
   "outputs": [],
   "source": [
    "from multicodebook_quantization import run"
   ]
  },
  {
   "cell_type": "code",
   "execution_count": null,
   "id": "b68c7298-d391-4441-92a8-6f598d2f1769",
   "metadata": {},
   "outputs": [],
   "source": [
    "run(model='facebook/hubert-large-ls960-ft', \n",
    "    num_codebooks=16, \n",
    "    quantizer_model_save_path='./quantizers/full-layer24-16N-quantizer.pt', \n",
    "    model_extract_layer=24)"
   ]
  },
  {
   "cell_type": "code",
   "execution_count": null,
   "id": "6357bd3e-afa2-4ee4-8ed7-22c2a1ec1aa0",
   "metadata": {},
   "outputs": [],
   "source": []
  }
 ],
 "metadata": {
  "kernelspec": {
   "display_name": "Python 3 (ipykernel)",
   "language": "python",
   "name": "python3"
  },
  "language_info": {
   "codemirror_mode": {
    "name": "ipython",
    "version": 3
   },
   "file_extension": ".py",
   "mimetype": "text/x-python",
   "name": "python",
   "nbconvert_exporter": "python",
   "pygments_lexer": "ipython3",
   "version": "3.9.18"
  }
 },
 "nbformat": 4,
 "nbformat_minor": 5
}
